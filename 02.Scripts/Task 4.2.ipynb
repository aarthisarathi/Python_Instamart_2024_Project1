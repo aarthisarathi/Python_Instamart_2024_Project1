{
 "cells": [
  {
   "cell_type": "code",
   "execution_count": 1,
   "id": "a60a5799-eab1-42d1-81ec-22a2537a85d0",
   "metadata": {},
   "outputs": [],
   "source": [
    "#Step 3: Importing Libraries"
   ]
  },
  {
   "cell_type": "code",
   "execution_count": 8,
   "id": "80f377d1-54f6-41d1-8bf4-cbc11b717f57",
   "metadata": {},
   "outputs": [],
   "source": [
    "import pandas as pd"
   ]
  },
  {
   "cell_type": "code",
   "execution_count": 6,
   "id": "1c4be4c9-11b0-4f2a-942c-d1380e2a078c",
   "metadata": {},
   "outputs": [],
   "source": [
    "import numpy as np"
   ]
  },
  {
   "cell_type": "code",
   "execution_count": 9,
   "id": "40cad33f-4cd0-43cb-8f36-93b7351182dc",
   "metadata": {},
   "outputs": [],
   "source": [
    "import os"
   ]
  },
  {
   "cell_type": "code",
   "execution_count": null,
   "id": "f7cb23a2-ae02-46e7-a9c8-40cefda6fd38",
   "metadata": {},
   "outputs": [],
   "source": [
    "# Step 7 : Code 3 different ways of reaching a result of 100 by adding or subtracting numeric variables"
   ]
  },
  {
   "cell_type": "code",
   "execution_count": 20,
   "id": "c38dd0b6-8568-48d7-a0d1-1a6aa09b464e",
   "metadata": {},
   "outputs": [],
   "source": [
    "x=50"
   ]
  },
  {
   "cell_type": "code",
   "execution_count": 21,
   "id": "899aa50e-eb52-4054-bcd2-93f904b6d552",
   "metadata": {},
   "outputs": [],
   "source": [
    "y=80"
   ]
  },
  {
   "cell_type": "code",
   "execution_count": 22,
   "id": "1ef7e216-6c10-463e-afdd-173e34934328",
   "metadata": {},
   "outputs": [],
   "source": [
    "z=30"
   ]
  },
  {
   "cell_type": "code",
   "execution_count": 23,
   "id": "ac06b4dc-9a5a-4930-bcfb-336ce52fad77",
   "metadata": {},
   "outputs": [],
   "source": [
    "a=20"
   ]
  },
  {
   "cell_type": "code",
   "execution_count": 24,
   "id": "3bffb62a-57ec-4ca3-ba14-c939fc8e0c02",
   "metadata": {},
   "outputs": [],
   "source": [
    "#Code 1 for Step 7"
   ]
  },
  {
   "cell_type": "code",
   "execution_count": 25,
   "id": "8846487e-b7c2-4ef1-a10e-cf27476421b0",
   "metadata": {},
   "outputs": [],
   "source": [
    "c1 = X+X"
   ]
  },
  {
   "cell_type": "code",
   "execution_count": 26,
   "id": "367c9dea-e666-47d2-a096-52af826e77d1",
   "metadata": {},
   "outputs": [
    {
     "name": "stdout",
     "output_type": "stream",
     "text": [
      "100\n"
     ]
    }
   ],
   "source": [
    "print(c1)"
   ]
  },
  {
   "cell_type": "code",
   "execution_count": null,
   "id": "c2bb0eae-e50d-480b-adca-6235b24e68f2",
   "metadata": {},
   "outputs": [],
   "source": [
    "#Code 2 for Step 7"
   ]
  },
  {
   "cell_type": "code",
   "execution_count": 29,
   "id": "1fead354-ab44-4893-8eee-8e2510244f56",
   "metadata": {},
   "outputs": [],
   "source": [
    "c2=x+y-z"
   ]
  },
  {
   "cell_type": "code",
   "execution_count": 30,
   "id": "473c636f-04bc-4d0a-8570-0d9da81400eb",
   "metadata": {},
   "outputs": [
    {
     "name": "stdout",
     "output_type": "stream",
     "text": [
      "100\n"
     ]
    }
   ],
   "source": [
    "print(c2)"
   ]
  },
  {
   "cell_type": "code",
   "execution_count": null,
   "id": "177b74c1-5240-49de-85a9-3065da0e80ae",
   "metadata": {},
   "outputs": [],
   "source": [
    "#Code 3 for Step 7"
   ]
  },
  {
   "cell_type": "code",
   "execution_count": 32,
   "id": "53bdf1e3-5f7a-4e70-8c83-3d3297e9177c",
   "metadata": {},
   "outputs": [],
   "source": [
    "c3=x+z+a"
   ]
  },
  {
   "cell_type": "code",
   "execution_count": 33,
   "id": "8fd586ee-ebcf-4e0c-939a-cbc29172aaca",
   "metadata": {},
   "outputs": [
    {
     "name": "stdout",
     "output_type": "stream",
     "text": [
      "100\n"
     ]
    }
   ],
   "source": [
    "print(c3)"
   ]
  },
  {
   "cell_type": "code",
   "execution_count": null,
   "id": "7afcb6c9-7195-4b8a-98de-3e04a9abba71",
   "metadata": {},
   "outputs": [],
   "source": [
    "#Step 8 : Code 2 floating-point variables and divide them by each other"
   ]
  },
  {
   "cell_type": "code",
   "execution_count": null,
   "id": "02286db9-b0ef-40f4-ac1f-05afd75cb5e4",
   "metadata": {},
   "outputs": [],
   "source": [
    "#Code 1 for Step 8"
   ]
  },
  {
   "cell_type": "code",
   "execution_count": 34,
   "id": "bcb52bb1-b0fa-42c9-a750-1a308f3539ae",
   "metadata": {},
   "outputs": [],
   "source": [
    "x=45.56"
   ]
  },
  {
   "cell_type": "code",
   "execution_count": 40,
   "id": "8f6e2119-564a-49a3-a60e-81ea57b29821",
   "metadata": {},
   "outputs": [],
   "source": [
    "y=23.458"
   ]
  },
  {
   "cell_type": "code",
   "execution_count": 42,
   "id": "8299492b-227e-42bd-92ea-e1c3ad6e371b",
   "metadata": {},
   "outputs": [],
   "source": [
    "c1 = x/y"
   ]
  },
  {
   "cell_type": "code",
   "execution_count": 43,
   "id": "eb327101-cc40-4d78-9254-e622a7b7995f",
   "metadata": {},
   "outputs": [
    {
     "name": "stdout",
     "output_type": "stream",
     "text": [
      "1.9421945604910906\n"
     ]
    }
   ],
   "source": [
    "print(c1)"
   ]
  },
  {
   "cell_type": "code",
   "execution_count": 38,
   "id": "8f5ed97f-d7c6-434f-b927-50720a4e96c2",
   "metadata": {},
   "outputs": [],
   "source": [
    "#Code 2 for Step 8"
   ]
  },
  {
   "cell_type": "code",
   "execution_count": 44,
   "id": "c08c96b9-358f-48a2-bbef-bad3df575280",
   "metadata": {},
   "outputs": [],
   "source": [
    "a=721.54"
   ]
  },
  {
   "cell_type": "code",
   "execution_count": 45,
   "id": "e1387e6e-4960-4a5a-b52e-5be21a8aee04",
   "metadata": {},
   "outputs": [],
   "source": [
    "b=88.88"
   ]
  },
  {
   "cell_type": "code",
   "execution_count": 46,
   "id": "a8de7a40-7f57-4e43-96de-4d7116cb42b8",
   "metadata": {},
   "outputs": [],
   "source": [
    "c2 = a/b"
   ]
  },
  {
   "cell_type": "code",
   "execution_count": 47,
   "id": "e26b73a8-819d-4417-96a4-8b163a170246",
   "metadata": {},
   "outputs": [
    {
     "name": "stdout",
     "output_type": "stream",
     "text": [
      "8.118136813681367\n"
     ]
    }
   ],
   "source": [
    "print(c2)"
   ]
  },
  {
   "cell_type": "code",
   "execution_count": null,
   "id": "ab7f00f8-bf74-47a4-a8cd-9370d21d5222",
   "metadata": {},
   "outputs": [],
   "source": [
    "#Step 9: Construct a short word made of separate strings (you’ll need to concatenate some strings!)"
   ]
  },
  {
   "cell_type": "code",
   "execution_count": 51,
   "id": "b7432b4e-dcd1-457a-a734-b24d476820d7",
   "metadata": {},
   "outputs": [],
   "source": [
    "a='Good '"
   ]
  },
  {
   "cell_type": "code",
   "execution_count": 52,
   "id": "83dcc69a-d156-4ce6-ba2f-168bdc4a8874",
   "metadata": {},
   "outputs": [],
   "source": [
    "b='day'"
   ]
  },
  {
   "cell_type": "code",
   "execution_count": 53,
   "id": "b1a8f1f0-3fa7-4926-9631-b72c00f1587f",
   "metadata": {},
   "outputs": [
    {
     "data": {
      "text/plain": [
       "'Good day'"
      ]
     },
     "execution_count": 53,
     "metadata": {},
     "output_type": "execute_result"
    }
   ],
   "source": [
    "a+b"
   ]
  },
  {
   "cell_type": "code",
   "execution_count": null,
   "id": "570927a8-9ed3-48b3-98c6-d1367eb3938b",
   "metadata": {},
   "outputs": [],
   "source": [
    "#Step 10: Construct 2 short sentences made of separate string"
   ]
  },
  {
   "cell_type": "code",
   "execution_count": 54,
   "id": "77ec065b-3b57-448a-bba5-5f7acd8c3c93",
   "metadata": {},
   "outputs": [],
   "source": [
    "x='Today '"
   ]
  },
  {
   "cell_type": "code",
   "execution_count": 55,
   "id": "b4106eb5-7b82-490b-9e84-9369ab252bec",
   "metadata": {},
   "outputs": [],
   "source": [
    "y='is '"
   ]
  },
  {
   "cell_type": "code",
   "execution_count": 56,
   "id": "cc432c68-5cef-40f7-a49b-14a0183aa0b5",
   "metadata": {},
   "outputs": [],
   "source": [
    "z='a '"
   ]
  },
  {
   "cell_type": "code",
   "execution_count": 57,
   "id": "3d7fdf88-e2b6-4491-a59d-4b27b2bbe718",
   "metadata": {},
   "outputs": [],
   "source": [
    "a='beautiful '"
   ]
  },
  {
   "cell_type": "code",
   "execution_count": 58,
   "id": "64361bb6-ffef-4d0d-a81e-bb208d0f1cdb",
   "metadata": {},
   "outputs": [],
   "source": [
    "b='new '"
   ]
  },
  {
   "cell_type": "code",
   "execution_count": 59,
   "id": "b6e86249-a37e-41a6-92ae-8c4bca958dd9",
   "metadata": {},
   "outputs": [],
   "source": [
    "c='day.'"
   ]
  },
  {
   "cell_type": "code",
   "execution_count": 60,
   "id": "30bbb190-1cda-4b70-8947-bba88086dd81",
   "metadata": {},
   "outputs": [
    {
     "data": {
      "text/plain": [
       "'Today is a beautiful new day.'"
      ]
     },
     "execution_count": 60,
     "metadata": {},
     "output_type": "execute_result"
    }
   ],
   "source": [
    "x+y+z+a+b+c"
   ]
  },
  {
   "cell_type": "code",
   "execution_count": 61,
   "id": "85473970-dbe8-41e6-8173-e2b3497fbaed",
   "metadata": {},
   "outputs": [],
   "source": [
    "p='I '"
   ]
  },
  {
   "cell_type": "code",
   "execution_count": 62,
   "id": "81b37db5-b701-45c7-aa8b-3bcf39d30de2",
   "metadata": {},
   "outputs": [],
   "source": [
    "q='am '"
   ]
  },
  {
   "cell_type": "code",
   "execution_count": 63,
   "id": "7d39ffea-80b1-45b6-a7a4-16457ad2c5e4",
   "metadata": {},
   "outputs": [],
   "source": [
    "r='healthy '"
   ]
  },
  {
   "cell_type": "code",
   "execution_count": 64,
   "id": "ebc5bf16-4d26-4889-a686-ae550b32c0ed",
   "metadata": {},
   "outputs": [],
   "source": [
    "s='and '"
   ]
  },
  {
   "cell_type": "code",
   "execution_count": 65,
   "id": "347008db-07c7-4b49-93ff-c6714eaf33ee",
   "metadata": {},
   "outputs": [],
   "source": [
    "t='happy.'"
   ]
  },
  {
   "cell_type": "code",
   "execution_count": 66,
   "id": "94a4c198-b3e8-4898-8e3b-72414c79d10a",
   "metadata": {},
   "outputs": [
    {
     "data": {
      "text/plain": [
       "'I am healthy and happy.'"
      ]
     },
     "execution_count": 66,
     "metadata": {},
     "output_type": "execute_result"
    }
   ],
   "source": [
    "p+q+r+s+t"
   ]
  },
  {
   "cell_type": "code",
   "execution_count": null,
   "id": "51ea06df-732d-40f4-87b7-5f73a775270f",
   "metadata": {},
   "outputs": [],
   "source": [
    "#Bonus"
   ]
  },
  {
   "cell_type": "code",
   "execution_count": 3,
   "id": "e863528f-3a2b-48dc-b79a-908c612e2b48",
   "metadata": {},
   "outputs": [],
   "source": [
    "a='Happy! '"
   ]
  },
  {
   "cell_type": "code",
   "execution_count": 4,
   "id": "4eb07963-28a3-4ce0-9062-2304a175829f",
   "metadata": {},
   "outputs": [
    {
     "data": {
      "text/plain": [
       "'Happy! Happy! Happy! Happy! Happy! Happy! Happy! Happy! Happy! Happy! Happy! Happy! Happy! Happy! Happy! Happy! Happy! Happy! Happy! Happy! Happy! Happy! Happy! Happy! Happy! Happy! Happy! Happy! Happy! Happy! Happy! Happy! Happy! Happy! Happy! Happy! Happy! Happy! Happy! Happy! Happy! Happy! Happy! Happy! Happy! Happy! Happy! Happy! Happy! Happy! Happy! Happy! Happy! Happy! Happy! Happy! Happy! Happy! Happy! Happy! Happy! Happy! Happy! Happy! Happy! Happy! Happy! Happy! Happy! Happy! Happy! Happy! Happy! Happy! Happy! Happy! Happy! Happy! Happy! Happy! Happy! Happy! Happy! Happy! Happy! Happy! Happy! Happy! Happy! Happy! Happy! Happy! Happy! Happy! Happy! Happy! Happy! Happy! Happy! Happy! '"
      ]
     },
     "execution_count": 4,
     "metadata": {},
     "output_type": "execute_result"
    }
   ],
   "source": [
    "a*100"
   ]
  },
  {
   "cell_type": "code",
   "execution_count": null,
   "id": "aa328a14-0650-416d-8186-01de6d6d042e",
   "metadata": {},
   "outputs": [],
   "source": []
  }
 ],
 "metadata": {
  "kernelspec": {
   "display_name": "Python 3 (ipykernel)",
   "language": "python",
   "name": "python3"
  },
  "language_info": {
   "codemirror_mode": {
    "name": "ipython",
    "version": 3
   },
   "file_extension": ".py",
   "mimetype": "text/x-python",
   "name": "python",
   "nbconvert_exporter": "python",
   "pygments_lexer": "ipython3",
   "version": "3.11.7"
  }
 },
 "nbformat": 4,
 "nbformat_minor": 5
}
